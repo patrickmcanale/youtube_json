{
 "cells": [
  {
   "cell_type": "code",
   "execution_count": 20,
   "id": "b3bab688",
   "metadata": {},
   "outputs": [],
   "source": [
    "import pandas as pd\n",
    "import numpy as np\n",
    "\n",
    "import json\n",
    "\n",
    "import matplotlib\n",
    "import matplotlib.pyplot as plt\n",
    "from matplotlib import cm\n",
    "\n",
    "matplotlib.rcParams['figure.figsize'] = (10, 10)"
   ]
  },
  {
   "cell_type": "code",
   "execution_count": 22,
   "id": "d5591133",
   "metadata": {},
   "outputs": [
    {
     "data": {
      "text/html": [
       "<div>\n",
       "<style scoped>\n",
       "    .dataframe tbody tr th:only-of-type {\n",
       "        vertical-align: middle;\n",
       "    }\n",
       "\n",
       "    .dataframe tbody tr th {\n",
       "        vertical-align: top;\n",
       "    }\n",
       "\n",
       "    .dataframe thead th {\n",
       "        text-align: right;\n",
       "    }\n",
       "</style>\n",
       "<table border=\"1\" class=\"dataframe\">\n",
       "  <thead>\n",
       "    <tr style=\"text-align: right;\">\n",
       "      <th></th>\n",
       "      <th>trending_date</th>\n",
       "      <th>title</th>\n",
       "      <th>channel_title</th>\n",
       "      <th>category_id</th>\n",
       "      <th>publish_time</th>\n",
       "      <th>tags</th>\n",
       "      <th>views</th>\n",
       "      <th>likes</th>\n",
       "      <th>dislikes</th>\n",
       "      <th>comment_count</th>\n",
       "      <th>thumbnail_link</th>\n",
       "      <th>comments_disabled</th>\n",
       "      <th>ratings_disabled</th>\n",
       "      <th>video_error_or_removed</th>\n",
       "      <th>description</th>\n",
       "    </tr>\n",
       "    <tr>\n",
       "      <th>video_id</th>\n",
       "      <th></th>\n",
       "      <th></th>\n",
       "      <th></th>\n",
       "      <th></th>\n",
       "      <th></th>\n",
       "      <th></th>\n",
       "      <th></th>\n",
       "      <th></th>\n",
       "      <th></th>\n",
       "      <th></th>\n",
       "      <th></th>\n",
       "      <th></th>\n",
       "      <th></th>\n",
       "      <th></th>\n",
       "      <th></th>\n",
       "    </tr>\n",
       "  </thead>\n",
       "  <tbody>\n",
       "    <tr>\n",
       "      <th>2kyS6SvSYSE</th>\n",
       "      <td>17.14.11</td>\n",
       "      <td>WE WANT TO TALK ABOUT OUR MARRIAGE</td>\n",
       "      <td>CaseyNeistat</td>\n",
       "      <td>22</td>\n",
       "      <td>2017-11-13T17:13:01.000Z</td>\n",
       "      <td>SHANtell martin</td>\n",
       "      <td>748374</td>\n",
       "      <td>57527</td>\n",
       "      <td>2966</td>\n",
       "      <td>15954</td>\n",
       "      <td>https://i.ytimg.com/vi/2kyS6SvSYSE/default.jpg</td>\n",
       "      <td>False</td>\n",
       "      <td>False</td>\n",
       "      <td>False</td>\n",
       "      <td>SHANTELL'S CHANNEL - https://www.youtube.com/s...</td>\n",
       "    </tr>\n",
       "    <tr>\n",
       "      <th>1ZAPwfrtAFY</th>\n",
       "      <td>17.14.11</td>\n",
       "      <td>The Trump Presidency: Last Week Tonight with J...</td>\n",
       "      <td>LastWeekTonight</td>\n",
       "      <td>24</td>\n",
       "      <td>2017-11-13T07:30:00.000Z</td>\n",
       "      <td>last week tonight trump presidency|\"last week ...</td>\n",
       "      <td>2418783</td>\n",
       "      <td>97185</td>\n",
       "      <td>6146</td>\n",
       "      <td>12703</td>\n",
       "      <td>https://i.ytimg.com/vi/1ZAPwfrtAFY/default.jpg</td>\n",
       "      <td>False</td>\n",
       "      <td>False</td>\n",
       "      <td>False</td>\n",
       "      <td>One year after the presidential election, John...</td>\n",
       "    </tr>\n",
       "    <tr>\n",
       "      <th>5qpjK5DgCt4</th>\n",
       "      <td>17.14.11</td>\n",
       "      <td>Racist Superman | Rudy Mancuso, King Bach &amp; Le...</td>\n",
       "      <td>Rudy Mancuso</td>\n",
       "      <td>23</td>\n",
       "      <td>2017-11-12T19:05:24.000Z</td>\n",
       "      <td>racist superman|\"rudy\"|\"mancuso\"|\"king\"|\"bach\"...</td>\n",
       "      <td>3191434</td>\n",
       "      <td>146033</td>\n",
       "      <td>5339</td>\n",
       "      <td>8181</td>\n",
       "      <td>https://i.ytimg.com/vi/5qpjK5DgCt4/default.jpg</td>\n",
       "      <td>False</td>\n",
       "      <td>False</td>\n",
       "      <td>False</td>\n",
       "      <td>WATCH MY PREVIOUS VIDEO ▶ \\n\\nSUBSCRIBE ► http...</td>\n",
       "    </tr>\n",
       "    <tr>\n",
       "      <th>puqaWrEC7tY</th>\n",
       "      <td>17.14.11</td>\n",
       "      <td>Nickelback Lyrics: Real or Fake?</td>\n",
       "      <td>Good Mythical Morning</td>\n",
       "      <td>24</td>\n",
       "      <td>2017-11-13T11:00:04.000Z</td>\n",
       "      <td>rhett and link|\"gmm\"|\"good mythical morning\"|\"...</td>\n",
       "      <td>343168</td>\n",
       "      <td>10172</td>\n",
       "      <td>666</td>\n",
       "      <td>2146</td>\n",
       "      <td>https://i.ytimg.com/vi/puqaWrEC7tY/default.jpg</td>\n",
       "      <td>False</td>\n",
       "      <td>False</td>\n",
       "      <td>False</td>\n",
       "      <td>Today we find out if Link is a Nickelback amat...</td>\n",
       "    </tr>\n",
       "    <tr>\n",
       "      <th>d380meD0W0M</th>\n",
       "      <td>17.14.11</td>\n",
       "      <td>I Dare You: GOING BALD!?</td>\n",
       "      <td>nigahiga</td>\n",
       "      <td>24</td>\n",
       "      <td>2017-11-12T18:01:41.000Z</td>\n",
       "      <td>ryan|\"higa\"|\"higatv\"|\"nigahiga\"|\"i dare you\"|\"...</td>\n",
       "      <td>2095731</td>\n",
       "      <td>132235</td>\n",
       "      <td>1989</td>\n",
       "      <td>17518</td>\n",
       "      <td>https://i.ytimg.com/vi/d380meD0W0M/default.jpg</td>\n",
       "      <td>False</td>\n",
       "      <td>False</td>\n",
       "      <td>False</td>\n",
       "      <td>I know it's been a while since we did this sho...</td>\n",
       "    </tr>\n",
       "  </tbody>\n",
       "</table>\n",
       "</div>"
      ],
      "text/plain": [
       "            trending_date                                              title  \\\n",
       "video_id                                                                       \n",
       "2kyS6SvSYSE      17.14.11                 WE WANT TO TALK ABOUT OUR MARRIAGE   \n",
       "1ZAPwfrtAFY      17.14.11  The Trump Presidency: Last Week Tonight with J...   \n",
       "5qpjK5DgCt4      17.14.11  Racist Superman | Rudy Mancuso, King Bach & Le...   \n",
       "puqaWrEC7tY      17.14.11                   Nickelback Lyrics: Real or Fake?   \n",
       "d380meD0W0M      17.14.11                           I Dare You: GOING BALD!?   \n",
       "\n",
       "                     channel_title  category_id              publish_time  \\\n",
       "video_id                                                                    \n",
       "2kyS6SvSYSE           CaseyNeistat           22  2017-11-13T17:13:01.000Z   \n",
       "1ZAPwfrtAFY        LastWeekTonight           24  2017-11-13T07:30:00.000Z   \n",
       "5qpjK5DgCt4           Rudy Mancuso           23  2017-11-12T19:05:24.000Z   \n",
       "puqaWrEC7tY  Good Mythical Morning           24  2017-11-13T11:00:04.000Z   \n",
       "d380meD0W0M               nigahiga           24  2017-11-12T18:01:41.000Z   \n",
       "\n",
       "                                                          tags    views  \\\n",
       "video_id                                                                  \n",
       "2kyS6SvSYSE                                    SHANtell martin   748374   \n",
       "1ZAPwfrtAFY  last week tonight trump presidency|\"last week ...  2418783   \n",
       "5qpjK5DgCt4  racist superman|\"rudy\"|\"mancuso\"|\"king\"|\"bach\"...  3191434   \n",
       "puqaWrEC7tY  rhett and link|\"gmm\"|\"good mythical morning\"|\"...   343168   \n",
       "d380meD0W0M  ryan|\"higa\"|\"higatv\"|\"nigahiga\"|\"i dare you\"|\"...  2095731   \n",
       "\n",
       "              likes  dislikes  comment_count  \\\n",
       "video_id                                       \n",
       "2kyS6SvSYSE   57527      2966          15954   \n",
       "1ZAPwfrtAFY   97185      6146          12703   \n",
       "5qpjK5DgCt4  146033      5339           8181   \n",
       "puqaWrEC7tY   10172       666           2146   \n",
       "d380meD0W0M  132235      1989          17518   \n",
       "\n",
       "                                             thumbnail_link  \\\n",
       "video_id                                                      \n",
       "2kyS6SvSYSE  https://i.ytimg.com/vi/2kyS6SvSYSE/default.jpg   \n",
       "1ZAPwfrtAFY  https://i.ytimg.com/vi/1ZAPwfrtAFY/default.jpg   \n",
       "5qpjK5DgCt4  https://i.ytimg.com/vi/5qpjK5DgCt4/default.jpg   \n",
       "puqaWrEC7tY  https://i.ytimg.com/vi/puqaWrEC7tY/default.jpg   \n",
       "d380meD0W0M  https://i.ytimg.com/vi/d380meD0W0M/default.jpg   \n",
       "\n",
       "             comments_disabled  ratings_disabled  video_error_or_removed  \\\n",
       "video_id                                                                   \n",
       "2kyS6SvSYSE              False             False                   False   \n",
       "1ZAPwfrtAFY              False             False                   False   \n",
       "5qpjK5DgCt4              False             False                   False   \n",
       "puqaWrEC7tY              False             False                   False   \n",
       "d380meD0W0M              False             False                   False   \n",
       "\n",
       "                                                   description  \n",
       "video_id                                                        \n",
       "2kyS6SvSYSE  SHANTELL'S CHANNEL - https://www.youtube.com/s...  \n",
       "1ZAPwfrtAFY  One year after the presidential election, John...  \n",
       "5qpjK5DgCt4  WATCH MY PREVIOUS VIDEO ▶ \\n\\nSUBSCRIBE ► http...  \n",
       "puqaWrEC7tY  Today we find out if Link is a Nickelback amat...  \n",
       "d380meD0W0M  I know it's been a while since we did this sho...  "
      ]
     },
     "execution_count": 22,
     "metadata": {},
     "output_type": "execute_result"
    }
   ],
   "source": [
    "file_name = r'C:\\Users\\patri\\Downloads\\USvideos.csv\\USvideos.csv' # change this if you want to read a different dataset\n",
    "my_df = pd.read_csv(file_name, index_col='video_id')\n",
    "my_df.head()"
   ]
  },
  {
   "cell_type": "code",
   "execution_count": 23,
   "id": "ce99e228",
   "metadata": {},
   "outputs": [
    {
     "name": "stdout",
     "output_type": "stream",
     "text": [
      "<class 'pandas.core.frame.DataFrame'>\n",
      "Index: 20967 entries, 2kyS6SvSYSE to cy9W-ZywVPc\n",
      "Data columns (total 15 columns):\n",
      " #   Column                  Non-Null Count  Dtype \n",
      "---  ------                  --------------  ----- \n",
      " 0   trending_date           20967 non-null  object\n",
      " 1   title                   20967 non-null  object\n",
      " 2   channel_title           20967 non-null  object\n",
      " 3   category_id             20967 non-null  int64 \n",
      " 4   publish_time            20967 non-null  object\n",
      " 5   tags                    20967 non-null  object\n",
      " 6   views                   20967 non-null  int64 \n",
      " 7   likes                   20967 non-null  int64 \n",
      " 8   dislikes                20967 non-null  int64 \n",
      " 9   comment_count           20967 non-null  int64 \n",
      " 10  thumbnail_link          20967 non-null  object\n",
      " 11  comments_disabled       20967 non-null  bool  \n",
      " 12  ratings_disabled        20967 non-null  bool  \n",
      " 13  video_error_or_removed  20967 non-null  bool  \n",
      " 14  description             20561 non-null  object\n",
      "dtypes: bool(3), int64(5), object(7)\n",
      "memory usage: 2.1+ MB\n"
     ]
    }
   ],
   "source": [
    "my_df.info()\n",
    "\n",
    "#date and publish are objects-  i will change to datetime format"
   ]
  },
  {
   "cell_type": "code",
   "execution_count": 24,
   "id": "bf4bb2a5",
   "metadata": {},
   "outputs": [
    {
     "data": {
      "text/plain": [
       "video_id\n",
       "2kyS6SvSYSE   2017-11-14\n",
       "1ZAPwfrtAFY   2017-11-14\n",
       "5qpjK5DgCt4   2017-11-14\n",
       "puqaWrEC7tY   2017-11-14\n",
       "d380meD0W0M   2017-11-14\n",
       "Name: trending_date, dtype: datetime64[ns]"
      ]
     },
     "execution_count": 24,
     "metadata": {},
     "output_type": "execute_result"
    }
   ],
   "source": [
    "my_df['trending_date'] = pd.to_datetime(my_df['trending_date'], format='%y.%d.%m')\n",
    "my_df['trending_date'].head()\n",
    "\n",
    "#trending date column now datetime"
   ]
  },
  {
   "cell_type": "code",
   "execution_count": 25,
   "id": "dedbb8b7",
   "metadata": {},
   "outputs": [
    {
     "data": {
      "text/plain": [
       "video_id\n",
       "2kyS6SvSYSE   2017-11-13 17:13:01\n",
       "1ZAPwfrtAFY   2017-11-13 07:30:00\n",
       "5qpjK5DgCt4   2017-11-12 19:05:24\n",
       "puqaWrEC7tY   2017-11-13 11:00:04\n",
       "d380meD0W0M   2017-11-12 18:01:41\n",
       "Name: publish_time, dtype: datetime64[ns]"
      ]
     },
     "execution_count": 25,
     "metadata": {},
     "output_type": "execute_result"
    }
   ],
   "source": [
    "my_df['publish_time'] = pd.to_datetime(my_df['publish_time'], format='%Y-%m-%dT%H:%M:%S.%fZ')\n",
    "my_df['publish_time'].head()\n",
    "\n",
    "#publish time column now datetime"
   ]
  },
  {
   "cell_type": "code",
   "execution_count": 26,
   "id": "8517d9bf",
   "metadata": {},
   "outputs": [
    {
     "data": {
      "text/html": [
       "<div>\n",
       "<style scoped>\n",
       "    .dataframe tbody tr th:only-of-type {\n",
       "        vertical-align: middle;\n",
       "    }\n",
       "\n",
       "    .dataframe tbody tr th {\n",
       "        vertical-align: top;\n",
       "    }\n",
       "\n",
       "    .dataframe thead th {\n",
       "        text-align: right;\n",
       "    }\n",
       "</style>\n",
       "<table border=\"1\" class=\"dataframe\">\n",
       "  <thead>\n",
       "    <tr style=\"text-align: right;\">\n",
       "      <th></th>\n",
       "      <th>publish_date</th>\n",
       "      <th>publish_time</th>\n",
       "    </tr>\n",
       "    <tr>\n",
       "      <th>video_id</th>\n",
       "      <th></th>\n",
       "      <th></th>\n",
       "    </tr>\n",
       "  </thead>\n",
       "  <tbody>\n",
       "    <tr>\n",
       "      <th>2kyS6SvSYSE</th>\n",
       "      <td>2017-11-13</td>\n",
       "      <td>17:13:01</td>\n",
       "    </tr>\n",
       "    <tr>\n",
       "      <th>1ZAPwfrtAFY</th>\n",
       "      <td>2017-11-13</td>\n",
       "      <td>07:30:00</td>\n",
       "    </tr>\n",
       "    <tr>\n",
       "      <th>5qpjK5DgCt4</th>\n",
       "      <td>2017-11-12</td>\n",
       "      <td>19:05:24</td>\n",
       "    </tr>\n",
       "    <tr>\n",
       "      <th>puqaWrEC7tY</th>\n",
       "      <td>2017-11-13</td>\n",
       "      <td>11:00:04</td>\n",
       "    </tr>\n",
       "    <tr>\n",
       "      <th>d380meD0W0M</th>\n",
       "      <td>2017-11-12</td>\n",
       "      <td>18:01:41</td>\n",
       "    </tr>\n",
       "  </tbody>\n",
       "</table>\n",
       "</div>"
      ],
      "text/plain": [
       "            publish_date publish_time\n",
       "video_id                             \n",
       "2kyS6SvSYSE   2017-11-13     17:13:01\n",
       "1ZAPwfrtAFY   2017-11-13     07:30:00\n",
       "5qpjK5DgCt4   2017-11-12     19:05:24\n",
       "puqaWrEC7tY   2017-11-13     11:00:04\n",
       "d380meD0W0M   2017-11-12     18:01:41"
      ]
     },
     "execution_count": 26,
     "metadata": {},
     "output_type": "execute_result"
    }
   ],
   "source": [
    "#create a new time column\n",
    "\n",
    "my_df.insert(4, 'publish_date', my_df['publish_time'].dt.date)\n",
    "my_df['publish_time'] = my_df['publish_time'].dt.time\n",
    "my_df[['publish_date', 'publish_time']].head()"
   ]
  },
  {
   "cell_type": "code",
   "execution_count": 27,
   "id": "49b1e236",
   "metadata": {},
   "outputs": [],
   "source": [
    "type_int_list = ['views', 'likes', 'dislikes', 'comment_count']\n",
    "for column in type_int_list:\n",
    "    my_df[column] = my_df[column].astype(int)\n",
    "\n",
    "type_str_list = ['category_id']\n",
    "for column in type_str_list:\n",
    "    my_df[column] = my_df[column].astype(str)"
   ]
  },
  {
   "cell_type": "code",
   "execution_count": 29,
   "id": "6d316e1c",
   "metadata": {},
   "outputs": [
    {
     "data": {
      "text/plain": [
       "{'1': 'Film & Animation',\n",
       " '2': 'Autos & Vehicles',\n",
       " '10': 'Music',\n",
       " '15': 'Pets & Animals',\n",
       " '17': 'Sports',\n",
       " '18': 'Short Movies',\n",
       " '19': 'Travel & Events',\n",
       " '20': 'Gaming',\n",
       " '21': 'Videoblogging',\n",
       " '22': 'People & Blogs',\n",
       " '23': 'Comedy',\n",
       " '24': 'Entertainment',\n",
       " '25': 'News & Politics',\n",
       " '26': 'Howto & Style',\n",
       " '27': 'Education',\n",
       " '28': 'Science & Technology',\n",
       " '29': 'Nonprofits & Activism',\n",
       " '30': 'Movies',\n",
       " '31': 'Anime/Animation',\n",
       " '32': 'Action/Adventure',\n",
       " '33': 'Classics',\n",
       " '34': 'Comedy',\n",
       " '35': 'Documentary',\n",
       " '36': 'Drama',\n",
       " '37': 'Family',\n",
       " '38': 'Foreign',\n",
       " '39': 'Horror',\n",
       " '40': 'Sci-Fi/Fantasy',\n",
       " '41': 'Thriller',\n",
       " '42': 'Shorts',\n",
       " '43': 'Shows',\n",
       " '44': 'Trailers'}"
      ]
     },
     "execution_count": 29,
     "metadata": {},
     "output_type": "execute_result"
    }
   ],
   "source": [
    "# create a dictionary that maps `category_id` to `category`\n",
    "id_to_category = {}\n",
    "\n",
    "with open(r'C:\\Users\\patri\\Downloads\\US_category_id.json', 'r') as f:\n",
    "    data = json.load(f)\n",
    "    for category in data['items']:\n",
    "        id_to_category[category['id']] = category['snippet']['title']\n",
    "\n",
    "id_to_category"
   ]
  },
  {
   "cell_type": "code",
   "execution_count": 30,
   "id": "fa17a80c",
   "metadata": {},
   "outputs": [
    {
     "data": {
      "text/html": [
       "<div>\n",
       "<style scoped>\n",
       "    .dataframe tbody tr th:only-of-type {\n",
       "        vertical-align: middle;\n",
       "    }\n",
       "\n",
       "    .dataframe tbody tr th {\n",
       "        vertical-align: top;\n",
       "    }\n",
       "\n",
       "    .dataframe thead th {\n",
       "        text-align: right;\n",
       "    }\n",
       "</style>\n",
       "<table border=\"1\" class=\"dataframe\">\n",
       "  <thead>\n",
       "    <tr style=\"text-align: right;\">\n",
       "      <th></th>\n",
       "      <th>category_id</th>\n",
       "      <th>category</th>\n",
       "    </tr>\n",
       "    <tr>\n",
       "      <th>video_id</th>\n",
       "      <th></th>\n",
       "      <th></th>\n",
       "    </tr>\n",
       "  </thead>\n",
       "  <tbody>\n",
       "    <tr>\n",
       "      <th>2kyS6SvSYSE</th>\n",
       "      <td>22</td>\n",
       "      <td>People &amp; Blogs</td>\n",
       "    </tr>\n",
       "    <tr>\n",
       "      <th>1ZAPwfrtAFY</th>\n",
       "      <td>24</td>\n",
       "      <td>Entertainment</td>\n",
       "    </tr>\n",
       "    <tr>\n",
       "      <th>5qpjK5DgCt4</th>\n",
       "      <td>23</td>\n",
       "      <td>Comedy</td>\n",
       "    </tr>\n",
       "    <tr>\n",
       "      <th>puqaWrEC7tY</th>\n",
       "      <td>24</td>\n",
       "      <td>Entertainment</td>\n",
       "    </tr>\n",
       "    <tr>\n",
       "      <th>d380meD0W0M</th>\n",
       "      <td>24</td>\n",
       "      <td>Entertainment</td>\n",
       "    </tr>\n",
       "  </tbody>\n",
       "</table>\n",
       "</div>"
      ],
      "text/plain": [
       "            category_id        category\n",
       "video_id                               \n",
       "2kyS6SvSYSE          22  People & Blogs\n",
       "1ZAPwfrtAFY          24   Entertainment\n",
       "5qpjK5DgCt4          23          Comedy\n",
       "puqaWrEC7tY          24   Entertainment\n",
       "d380meD0W0M          24   Entertainment"
      ]
     },
     "execution_count": 30,
     "metadata": {},
     "output_type": "execute_result"
    }
   ],
   "source": [
    "my_df.insert(4, 'category', my_df['category_id'].map(id_to_category))\n",
    "my_df[['category_id', 'category']].head()"
   ]
  },
  {
   "cell_type": "code",
   "execution_count": 31,
   "id": "c77f64f7",
   "metadata": {},
   "outputs": [
    {
     "data": {
      "text/html": [
       "<div>\n",
       "<style scoped>\n",
       "    .dataframe tbody tr th:only-of-type {\n",
       "        vertical-align: middle;\n",
       "    }\n",
       "\n",
       "    .dataframe tbody tr th {\n",
       "        vertical-align: top;\n",
       "    }\n",
       "\n",
       "    .dataframe thead th {\n",
       "        text-align: right;\n",
       "    }\n",
       "</style>\n",
       "<table border=\"1\" class=\"dataframe\">\n",
       "  <thead>\n",
       "    <tr style=\"text-align: right;\">\n",
       "      <th></th>\n",
       "      <th>views</th>\n",
       "      <th>likes</th>\n",
       "      <th>dislikes</th>\n",
       "      <th>comment_count</th>\n",
       "    </tr>\n",
       "  </thead>\n",
       "  <tbody>\n",
       "    <tr>\n",
       "      <th>views</th>\n",
       "      <td>1.000000</td>\n",
       "      <td>0.822936</td>\n",
       "      <td>0.529473</td>\n",
       "      <td>0.584559</td>\n",
       "    </tr>\n",
       "    <tr>\n",
       "      <th>likes</th>\n",
       "      <td>0.822936</td>\n",
       "      <td>1.000000</td>\n",
       "      <td>0.483185</td>\n",
       "      <td>0.712651</td>\n",
       "    </tr>\n",
       "    <tr>\n",
       "      <th>dislikes</th>\n",
       "      <td>0.529473</td>\n",
       "      <td>0.483185</td>\n",
       "      <td>1.000000</td>\n",
       "      <td>0.849959</td>\n",
       "    </tr>\n",
       "    <tr>\n",
       "      <th>comment_count</th>\n",
       "      <td>0.584559</td>\n",
       "      <td>0.712651</td>\n",
       "      <td>0.849959</td>\n",
       "      <td>1.000000</td>\n",
       "    </tr>\n",
       "  </tbody>\n",
       "</table>\n",
       "</div>"
      ],
      "text/plain": [
       "                  views     likes  dislikes  comment_count\n",
       "views          1.000000  0.822936  0.529473       0.584559\n",
       "likes          0.822936  1.000000  0.483185       0.712651\n",
       "dislikes       0.529473  0.483185  1.000000       0.849959\n",
       "comment_count  0.584559  0.712651  0.849959       1.000000"
      ]
     },
     "execution_count": 31,
     "metadata": {},
     "output_type": "execute_result"
    }
   ],
   "source": [
    "keep_columns = ['views', 'likes', 'dislikes', 'comment_count'] # only looking at correlations between these variables\n",
    "corr_matrix = my_df[keep_columns].corr()\n",
    "corr_matrix"
   ]
  },
  {
   "cell_type": "code",
   "execution_count": 32,
   "id": "6c439be3",
   "metadata": {},
   "outputs": [
    {
     "name": "stderr",
     "output_type": "stream",
     "text": [
      "<ipython-input-32-132f8da027ab>:14: UserWarning: FixedFormatter should only be used together with FixedLocator\n",
      "  ax.set_yticklabels(labels, minor=False)\n",
      "<ipython-input-32-132f8da027ab>:15: UserWarning: FixedFormatter should only be used together with FixedLocator\n",
      "  ax.set_xticklabels(labels, minor=False)\n"
     ]
    },
    {
     "data": {
      "image/png": "[encoded data removed]",
      "text/plain": [
       "<Figure size 720x720 with 2 Axes>"
      ]
     },
     "metadata": {
      "needs_background": "light"
     },
     "output_type": "display_data"
    }
   ],
   "source": [
    "fig, ax = plt.subplots()\n",
    "heatmap = ax.imshow(corr_matrix, interpolation='nearest', cmap=cm.coolwarm)\n",
    "\n",
    "# making the colorbar on the side\n",
    "cbar_min = corr_matrix.min().min()\n",
    "cbar_max = corr_matrix.max().max()\n",
    "cbar = fig.colorbar(heatmap, ticks=[cbar_min, cbar_max])\n",
    "\n",
    "# making the labels\n",
    "labels = ['']\n",
    "for column in keep_columns:\n",
    "    labels.append(column)\n",
    "    labels.append('')\n",
    "ax.set_yticklabels(labels, minor=False)\n",
    "ax.set_xticklabels(labels, minor=False)\n",
    "\n",
    "plt.show()"
   ]
  },
  {
   "cell_type": "code",
   "execution_count": 33,
   "id": "d336669d",
   "metadata": {},
   "outputs": [
    {
     "name": "stdout",
     "output_type": "stream",
     "text": [
      "(20967, 17)\n",
      "(4416, 17)\n"
     ]
    },
    {
     "data": {
      "text/plain": [
       "False"
      ]
     },
     "execution_count": 33,
     "metadata": {},
     "output_type": "execute_result"
    }
   ],
   "source": [
    "print(my_df.shape)\n",
    "my_df = my_df[~my_df.index.duplicated(keep='last')]\n",
    "print(my_df.shape)\n",
    "my_df.index.duplicated().any()"
   ]
  },
  {
   "cell_type": "code",
   "execution_count": 35,
   "id": "77ce82f3",
   "metadata": {},
   "outputs": [],
   "source": [
    "def visualize_most(my_df, column, num=10): # getting the top 10 videos by default\n",
    "    sorted_df = my_df.sort_values(column, ascending=False).iloc[:num]\n",
    "    \n",
    "    ax = sorted_df[column].plot.bar()\n",
    "    \n",
    "    # customizes the video titles, for asthetic purposes for the bar chart\n",
    "    labels = []\n",
    "    for item in sorted_df['title']:\n",
    "        labels.append(item[:10] + '...')\n",
    "    ax.set_xticklabels(labels, rotation=45, fontsize=10)\n",
    "    \n",
    "    plt.show()"
   ]
  },
  {
   "cell_type": "code",
   "execution_count": 36,
   "id": "cb3f7df6",
   "metadata": {},
   "outputs": [
    {
     "data": {
      "image/png": "[encoded data removed]",
      "text/plain": [
       "<Figure size 720x720 with 1 Axes>"
      ]
     },
     "metadata": {
      "needs_background": "light"
     },
     "output_type": "display_data"
    }
   ],
   "source": [
    "visualize_most(my_df, 'views')"
   ]
  },
  {
   "cell_type": "code",
   "execution_count": 37,
   "id": "ddc68d4d",
   "metadata": {},
   "outputs": [
    {
     "name": "stderr",
     "output_type": "stream",
     "text": [
      "C:\\Users\\patri\\anaconda3\\lib\\site-packages\\matplotlib\\backends\\backend_agg.py:238: RuntimeWarning: Glyph 48169 missing from current font.\n",
      "  font.set_text(s, 0.0, flags=flags)\n",
      "C:\\Users\\patri\\anaconda3\\lib\\site-packages\\matplotlib\\backends\\backend_agg.py:238: RuntimeWarning: Glyph 53444 missing from current font.\n",
      "  font.set_text(s, 0.0, flags=flags)\n",
      "C:\\Users\\patri\\anaconda3\\lib\\site-packages\\matplotlib\\backends\\backend_agg.py:238: RuntimeWarning: Glyph 49548 missing from current font.\n",
      "  font.set_text(s, 0.0, flags=flags)\n",
      "C:\\Users\\patri\\anaconda3\\lib\\site-packages\\matplotlib\\backends\\backend_agg.py:238: RuntimeWarning: Glyph 45380 missing from current font.\n",
      "  font.set_text(s, 0.0, flags=flags)\n",
      "C:\\Users\\patri\\anaconda3\\lib\\site-packages\\matplotlib\\backends\\backend_agg.py:238: RuntimeWarning: Glyph 45800 missing from current font.\n",
      "  font.set_text(s, 0.0, flags=flags)\n",
      "C:\\Users\\patri\\anaconda3\\lib\\site-packages\\matplotlib\\backends\\backend_agg.py:201: RuntimeWarning: Glyph 48169 missing from current font.\n",
      "  font.set_text(s, 0, flags=flags)\n",
      "C:\\Users\\patri\\anaconda3\\lib\\site-packages\\matplotlib\\backends\\backend_agg.py:201: RuntimeWarning: Glyph 53444 missing from current font.\n",
      "  font.set_text(s, 0, flags=flags)\n",
      "C:\\Users\\patri\\anaconda3\\lib\\site-packages\\matplotlib\\backends\\backend_agg.py:201: RuntimeWarning: Glyph 49548 missing from current font.\n",
      "  font.set_text(s, 0, flags=flags)\n",
      "C:\\Users\\patri\\anaconda3\\lib\\site-packages\\matplotlib\\backends\\backend_agg.py:201: RuntimeWarning: Glyph 45380 missing from current font.\n",
      "  font.set_text(s, 0, flags=flags)\n",
      "C:\\Users\\patri\\anaconda3\\lib\\site-packages\\matplotlib\\backends\\backend_agg.py:201: RuntimeWarning: Glyph 45800 missing from current font.\n",
      "  font.set_text(s, 0, flags=flags)\n"
     ]
    },
    {
     "data": {
      "image/png": "[encoded data removed]",
      "text/plain": [
       "<Figure size 720x720 with 1 Axes>"
      ]
     },
     "metadata": {
      "needs_background": "light"
     },
     "output_type": "display_data"
    }
   ],
   "source": [
    "visualize_most(my_df, 'likes', num=5) # only visualizes the top 5"
   ]
  },
  {
   "cell_type": "code",
   "execution_count": 38,
   "id": "18e6dda9",
   "metadata": {},
   "outputs": [
    {
     "data": {
      "image/png": "[encoded data removed]",
      "text/plain": [
       "<Figure size 720x720 with 1 Axes>"
      ]
     },
     "metadata": {
      "needs_background": "light"
     },
     "output_type": "display_data"
    }
   ],
   "source": [
    "visualize_most(my_df, 'dislikes')"
   ]
  },
  {
   "cell_type": "code",
   "execution_count": 39,
   "id": "dc5e4ed6",
   "metadata": {},
   "outputs": [
    {
     "data": {
      "image/png": "[encoded data removed]",
      "text/plain": [
       "<Figure size 720x720 with 1 Axes>"
      ]
     },
     "metadata": {
      "needs_background": "light"
     },
     "output_type": "display_data"
    }
   ],
   "source": [
    "visualize_most(my_df, 'comment_count')"
   ]
  },
  {
   "cell_type": "code",
   "execution_count": null,
   "id": "8dd2872c",
   "metadata": {},
   "outputs": [],
   "source": []
  }
 ],
 "metadata": {
  "kernelspec": {
   "display_name": "Python 3",
   "language": "python",
   "name": "python3"
  },
  "language_info": {
   "codemirror_mode": {
    "name": "ipython",
    "version": 3
   },
   "file_extension": ".py",
   "mimetype": "text/x-python",
   "name": "python",
   "nbconvert_exporter": "python",
   "pygments_lexer": "ipython3",
   "version": "3.8.8"
  }
 },
 "nbformat": 4,
 "nbformat_minor": 5
}
